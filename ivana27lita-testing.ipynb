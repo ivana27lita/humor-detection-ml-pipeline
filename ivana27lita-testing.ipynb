{
 "cells": [
  {
   "cell_type": "markdown",
   "metadata": {},
   "source": [
    "Kode pada notebook ini bertujuan untuk menguji dan melakukan prediction request ke model serving:"
   ]
  },
  {
   "cell_type": "code",
   "execution_count": 6,
   "metadata": {},
   "outputs": [],
   "source": [
    "# Import Library\n",
    "import requests\n",
    "import tensorflow as tf\n",
    "import json\n",
    "import base64"
   ]
  },
  {
   "cell_type": "code",
   "execution_count": 25,
   "metadata": {},
   "outputs": [],
   "source": [
    "def create_humor_detection_payload(text):\n",
    "    feature_dict = {\n",
    "        \"text\": tf.train.Feature(bytes_list=tf.train.BytesList(value=[text.encode(\"utf-8\")])),\n",
    "    }\n",
    "    \n",
    "    example_proto = tf.train.Example(\n",
    "        features=tf.train.Features(feature=feature_dict)\n",
    "    ).SerializeToString()\n",
    "    \n",
    "    payload = [\n",
    "        {\n",
    "            \"examples\": {\n",
    "                \"b64\": base64.b64encode(example_proto).decode()\n",
    "            }\n",
    "        }\n",
    "    ]\n",
    "    \n",
    "    return json.dumps({\n",
    "        \"signature_name\": \"serving_default\",\n",
    "        \"instances\": payload\n",
    "    })\n",
    "\n",
    "def predict(text):\n",
    "    model_endpoint = \"http://localhost:8080/v1/models/humor-detection-model:predict\"\n",
    "    json_payload = create_humor_detection_payload(text)\n",
    "    \n",
    "    response = requests.post(model_endpoint, data=json_payload, headers={\"Content-Type\": \"application/json\"})\n",
    "    \n",
    "    try:\n",
    "        predictions = response.json().get(\"predictions\")\n",
    "        if predictions:\n",
    "            prediction_score = predictions[0][0]\n",
    "            classification = \"Humor detected\" if prediction_score > 0.5 else \"No humor detected\"\n",
    "        else:\n",
    "            classification = \"Error: No predictions found in response.\"\n",
    "    except (ValueError, IndexError, KeyError) as e:\n",
    "        classification = f\"Error processing response: {str(e)}\"\n",
    "    \n",
    "    return classification"
   ]
  },
  {
   "cell_type": "code",
   "execution_count": 28,
   "metadata": {},
   "outputs": [
    {
     "name": "stdout",
     "output_type": "stream",
     "text": [
      "Text: What's the difference between Donald Trump's hair and a wet racoon?\n",
      "Humor detected: Humor detected\n",
      "\n",
      "\n",
      "Text: I told my wife she was drawing her eyebrows too high. She looked surprised.\n",
      "Humor detected: Humor detected\n",
      "\n",
      "\n",
      "Text: Why don't scientists trust atoms? Because they make up everything.\n",
      "Humor detected: Humor detected\n",
      "\n",
      "\n",
      "Text: I'm reading a book on anti-gravity. It's impossible to put down.\n",
      "Humor detected: Humor detected\n",
      "\n",
      "\n",
      "Text: Why did the scarecrow win an award? Because he was outstanding in his field!\n",
      "Humor detected: Humor detected\n",
      "\n",
      "\n",
      "Text: This is a sentence\n",
      "Humor detected: No humor detected\n",
      "\n",
      "\n"
     ]
    }
   ],
   "source": [
    "# Contoh teks untuk pengujian\n",
    "texts = [\n",
    "    \"What's the difference between Donald Trump's hair and a wet racoon?\",\n",
    "    \"I told my wife she was drawing her eyebrows too high. She looked surprised.\",\n",
    "    \"Why don't scientists trust atoms? Because they make up everything.\",\n",
    "    \"I'm reading a book on anti-gravity. It's impossible to put down.\",\n",
    "    \"Why did the scarecrow win an award? Because he was outstanding in his field!\",\n",
    "    \"This is a sentence\"\n",
    "]\n",
    "\n",
    "for text in texts:\n",
    "    pred = predict(text)\n",
    "    print(\"Text:\", text)\n",
    "    print('Humor detected:', pred)\n",
    "    print(\"\\n\")"
   ]
  }
 ],
 "metadata": {
  "kernelspec": {
   "display_name": ".venv",
   "language": "python",
   "name": "python3"
  },
  "language_info": {
   "codemirror_mode": {
    "name": "ipython",
    "version": 3
   },
   "file_extension": ".py",
   "mimetype": "text/x-python",
   "name": "python",
   "nbconvert_exporter": "python",
   "pygments_lexer": "ipython3",
   "version": "3.8.10"
  }
 },
 "nbformat": 4,
 "nbformat_minor": 2
}
